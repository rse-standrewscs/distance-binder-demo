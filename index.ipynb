{
 "cells": [
  {
   "cell_type": "markdown",
   "metadata": {},
   "source": [
    "# Distance Sampling Examples"
   ]
  },
  {
   "cell_type": "markdown",
   "metadata": {},
   "source": [
    "We provide some examples from https://examples.distancesampling.org/ in the form of Jupyter notebooks:\n",
    "\n",
    "- [Getting Started with dssd](GettingStarted-distill.ipynb) by Laura Marshall\n",
    "\n",
    "- [Line transect density estimation](lines-distill.ipynb) by Eric Rexstad"
   ]
  }
 ],
 "metadata": {
  "kernelspec": {
   "display_name": "R",
   "language": "R",
   "name": "ir"
  },
  "language_info": {
   "codemirror_mode": "r",
   "file_extension": ".r",
   "mimetype": "text/x-r-source",
   "name": "R",
   "pygments_lexer": "r",
   "version": "4.0.4"
  }
 },
 "nbformat": 4,
 "nbformat_minor": 2
}
